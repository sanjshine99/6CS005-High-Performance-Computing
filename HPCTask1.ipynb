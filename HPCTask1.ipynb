{
  "nbformat": 4,
  "nbformat_minor": 0,
  "metadata": {
    "colab": {
      "provenance": [],
      "gpuType": "T4",
      "authorship_tag": "ABX9TyObRtkwYDTND0C4Lxuv9SPH",
      "include_colab_link": true
    },
    "kernelspec": {
      "name": "python3",
      "display_name": "Python 3"
    },
    "language_info": {
      "name": "python"
    }
  },
  "cells": [
    {
      "cell_type": "markdown",
      "metadata": {
        "id": "view-in-github",
        "colab_type": "text"
      },
      "source": [
        "<a href=\"https://colab.research.google.com/github/sanjshine99/6CS005-High-Performance-Computing/blob/main/HPCTask1.ipynb\" target=\"_parent\"><img src=\"https://colab.research.google.com/assets/colab-badge.svg\" alt=\"Open In Colab\"/></a>"
      ]
    },
    {
      "cell_type": "markdown",
      "source": [
        "# Password cracking using multithreading"
      ],
      "metadata": {
        "id": "5kLrLe0-kSVf"
      }
    },
    {
      "cell_type": "code",
      "source": [
        "%%writefile EncryptSHA512.c\n",
        "#include <string.h>\n",
        "#include <stdio.h>\n",
        "#include <stdlib.h>\n",
        "#include <crypt.h>\n",
        "#include <ctype.h>\n",
        "\n",
        "#define SALT \"$6$AS$\"\n",
        "\n",
        "int isValidFormat(const char *str);\n",
        "\n",
        "int main(int argc, char *argv[]){\n",
        "\n",
        "    if (argc != 2) {\n",
        "        fprintf(stderr, \"Usage: %s <password>\\n\", argv[0]);\n",
        "        return 1;\n",
        "    }\n",
        "\n",
        "    if (!isValidFormat(argv[1])) {\n",
        "        fprintf(stderr, \"Error: Password must be in the format 'LLNN' (e.g., 'AB12')\\n\");\n",
        "        return 1;\n",
        "    }\n",
        "\n",
        "    printf(\"%s\\n\", crypt(argv[1], SALT));\n",
        "\n",
        "    return 0;\n",
        "}\n",
        "\n",
        "// Function to validate the password format\n",
        "int isValidFormat(const char *str) {\n",
        "    // Check length first\n",
        "    if (strlen(str) != 4) {\n",
        "        return 0;\n",
        "    }\n",
        "\n",
        "    if (!isupper(str[0]) || !isupper(str[1])) {\n",
        "        return 0;\n",
        "    }\n",
        "\n",
        "    if (!isdigit(str[2]) || !isdigit(str[3])) {\n",
        "        return 0;\n",
        "    }\n",
        "\n",
        "    return 1;\n",
        "}"
      ],
      "metadata": {
        "colab": {
          "base_uri": "https://localhost:8080/"
        },
        "id": "LlkF-OqAms1e",
        "outputId": "4db2c914-a6d7-4250-a80e-995b1636e09d"
      },
      "execution_count": null,
      "outputs": [
        {
          "output_type": "stream",
          "name": "stdout",
          "text": [
            "Writing EncryptSHA512.c\n"
          ]
        }
      ]
    },
    {
      "cell_type": "code",
      "source": [
        "%%shell\n",
        "\n",
        "gcc EncryptSHA512.c -lcrypt -o output\n",
        "\n",
        "./output AA00"
      ],
      "metadata": {
        "colab": {
          "base_uri": "https://localhost:8080/"
        },
        "id": "t8b_Gyr0nZs7",
        "outputId": "5df55485-21a3-47ef-8e04-f5da188716c1"
      },
      "execution_count": null,
      "outputs": [
        {
          "output_type": "stream",
          "name": "stdout",
          "text": [
            "$6$AS$wKDMKDtx/s3ILNkNaRNFIM0w81/weD1UZ8daNhbQBXuj8L.7OY4trHnSraeizmFYrMwjlb1uRTPxu20rqhmMn/\n"
          ]
        },
        {
          "output_type": "execute_result",
          "data": {
            "text/plain": []
          },
          "metadata": {},
          "execution_count": 2
        }
      ]
    },
    {
      "cell_type": "code",
      "source": [
        "%%writefile CrackAZ99.c\n",
        "\n",
        "#define _GNU_SOURCE\n",
        "#include <stdio.h>\n",
        "#include <stdlib.h>\n",
        "#include <pthread.h>\n",
        "#include <string.h>\n",
        "#include <unistd.h>\n",
        "#include <crypt.h>\n",
        "\n",
        "pthread_mutex_t lock; // Mutex for thread-safe updates\n",
        "volatile int found = 0; // Flag to signal other threads to terminate\n",
        "\n",
        "struct ThreadArgs {\n",
        "    int threadIndex;\n",
        "    int start;\n",
        "    int end;\n",
        "    char *encryptedPassword;\n",
        "};\n",
        "\n",
        "char *foundPassword = NULL; // Pointer to hold the found password\n",
        "\n",
        "void *Decrypt(void *tArg);\n",
        "void substr(char *dest, char *src, int start, int length);\n",
        "\n",
        "int main(int argc, char *argv[]) {\n",
        "    if (argc < 2) {\n",
        "        fprintf(stderr, \"Usage: %s <encryptedPassword>\\n\", argv[0]);\n",
        "        return 1;\n",
        "    }\n",
        "\n",
        "    char *encryptedPassword = argv[1];\n",
        "\n",
        "    int threadCount = 4; // Number of threads\n",
        "    pthread_t threads[threadCount];\n",
        "    struct ThreadArgs args[threadCount];\n",
        "\n",
        "    int totalCombinations = 26 * 26 * 100; // Total possible combinations\n",
        "    int workPerThread = totalCombinations / threadCount;\n",
        "    int remainingWork = totalCombinations % threadCount;\n",
        "\n",
        "    pthread_mutex_init(&lock, NULL);\n",
        "\n",
        "    for (int i = 0; i < threadCount; i++) {\n",
        "        args[i].threadIndex = i; // Initialize threadIndex\n",
        "        args[i].encryptedPassword = encryptedPassword;\n",
        "        args[i].start = i * workPerThread + (i < remainingWork ? i : remainingWork);\n",
        "        args[i].end = (i + 1) * workPerThread + (i < remainingWork ? i : remainingWork - 1);\n",
        "\n",
        "        if (pthread_create(&threads[i], NULL, Decrypt, &args[i]) != 0) {\n",
        "            fprintf(stderr, \"Error creating thread %d\\n\", i);\n",
        "            return 2;\n",
        "        }\n",
        "    }\n",
        "\n",
        "    for (int i = 0; i < threadCount; i++) {\n",
        "        pthread_join(threads[i], NULL);\n",
        "    }\n",
        "\n",
        "    if (foundPassword != NULL) {\n",
        "        printf(\"Results:\\n\");\n",
        "        printf(\"Encrypted Password: '%s'\\n\", encryptedPassword);\n",
        "        printf(\"Decrypted Password: '%s'\\n\", foundPassword);\n",
        "        free(foundPassword);\n",
        "    } else {\n",
        "        printf(\"Password not found.\\n\");\n",
        "    }\n",
        "\n",
        "    pthread_mutex_destroy(&lock);\n",
        "    return 0;\n",
        "}\n",
        "\n",
        "void *Decrypt(void *tArg) {\n",
        "    struct ThreadArgs *args = (struct ThreadArgs *)tArg;\n",
        "    char salt[7], potentialPass[7], *encrypted;\n",
        "    substr(salt, args->encryptedPassword, 0, 6);\n",
        "\n",
        "    struct crypt_data data;\n",
        "    data.initialized = 0;\n",
        "\n",
        "    int progressInterval = 10000; // Control how often to print progress, based on the number of attempts\n",
        "\n",
        "    for (int i = args->start; i <= args->end && !found; i++) {\n",
        "        if (i % progressInterval == 0) {\n",
        "            int firstCharIndex = i / (26 * 100);\n",
        "            int secondCharIndex = (i / 100) % 26;\n",
        "            int number = i % 100;\n",
        "            printf(\"Thread %d working. Current attempt: %c%c%02d\\n\", args->threadIndex, 'A' + firstCharIndex, 'A' + secondCharIndex, number);\n",
        "        }\n",
        "\n",
        "        int firstCharIndex = i / (26 * 100);\n",
        "        int secondCharIndex = (i / 100) % 26;\n",
        "        int number = i % 100;\n",
        "\n",
        "        sprintf(potentialPass, \"%c%c%02d\", 'A' + firstCharIndex, 'A' + secondCharIndex, number);\n",
        "        encrypted = crypt_r(potentialPass, salt, &data);\n",
        "\n",
        "        pthread_mutex_lock(&lock);\n",
        "        if (!found && strcmp(args->encryptedPassword, encrypted) == 0) {\n",
        "            foundPassword = strdup(potentialPass);\n",
        "            found = 1;\n",
        "            pthread_mutex_unlock(&lock);\n",
        "            break;\n",
        "        }\n",
        "        pthread_mutex_unlock(&lock);\n",
        "    }\n",
        "    return NULL;\n",
        "}\n",
        "\n",
        "void substr(char *dest, char *src, int start, int length) {\n",
        "    memcpy(dest, src + start, length);\n",
        "    *(dest + length) = '\\0';\n",
        "}\n"
      ],
      "metadata": {
        "colab": {
          "base_uri": "https://localhost:8080/"
        },
        "id": "1CbSRzj_niJG",
        "outputId": "0980521e-249e-4a5f-8de9-cdd4951e3435"
      },
      "execution_count": null,
      "outputs": [
        {
          "output_type": "stream",
          "name": "stdout",
          "text": [
            "Writing CrackAZ99.c\n"
          ]
        }
      ]
    },
    {
      "cell_type": "code",
      "source": [
        "%%shell\n",
        "gcc -o CrackAZ99 CrackAZ99.c -lcrypt -lpthread\n",
        "./CrackAZ99 '$6$AS$wKDMKDtx/s3ILNkNaRNFIM0w81/weD1UZ8daNhbQBXuj8L.7OY4trHnSraeizmFYrMwjlb1uRTPxu20rqhmMn/'"
      ],
      "metadata": {
        "colab": {
          "base_uri": "https://localhost:8080/"
        },
        "id": "4KbYYRv3nyuf",
        "outputId": "12e6e721-cdac-49a6-9ae9-c1e7b1b49050"
      },
      "execution_count": null,
      "outputs": [
        {
          "output_type": "stream",
          "name": "stdout",
          "text": [
            "Thread 0 working. Current attempt: AA00\n",
            "Results:\n",
            "Encrypted Password: '$6$AS$wKDMKDtx/s3ILNkNaRNFIM0w81/weD1UZ8daNhbQBXuj8L.7OY4trHnSraeizmFYrMwjlb1uRTPxu20rqhmMn/'\n",
            "Decrypted Password: 'AA00'\n"
          ]
        },
        {
          "output_type": "execute_result",
          "data": {
            "text/plain": []
          },
          "metadata": {},
          "execution_count": 4
        }
      ]
    }
  ]
}