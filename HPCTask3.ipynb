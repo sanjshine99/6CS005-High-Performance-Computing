{
  "nbformat": 4,
  "nbformat_minor": 0,
  "metadata": {
    "colab": {
      "provenance": [],
      "gpuType": "T4",
      "include_colab_link": true
    },
    "kernelspec": {
      "name": "python3",
      "display_name": "Python 3"
    },
    "language_info": {
      "name": "python"
    },
    "accelerator": "GPU"
  },
  "cells": [
    {
      "cell_type": "markdown",
      "metadata": {
        "id": "view-in-github",
        "colab_type": "text"
      },
      "source": [
        "<a href=\"https://colab.research.google.com/github/sanjshine99/6CS005-High-Performance-Computing/blob/main/HPCTask3.ipynb\" target=\"_parent\"><img src=\"https://colab.research.google.com/assets/colab-badge.svg\" alt=\"Open In Colab\"/></a>"
      ]
    },
    {
      "cell_type": "markdown",
      "source": [
        "# Password Cracking using CUDA"
      ],
      "metadata": {
        "id": "3IGErPFJZJ_F"
      }
    },
    {
      "cell_type": "code",
      "execution_count": null,
      "metadata": {
        "id": "ui0WlsXMZEvw",
        "colab": {
          "base_uri": "https://localhost:8080/"
        },
        "outputId": "4b63f0ce-1c2e-41c3-85cd-510a4ea118f1"
      },
      "outputs": [
        {
          "output_type": "stream",
          "name": "stdout",
          "text": [
            "nvcc: NVIDIA (R) Cuda compiler driver\n",
            "Copyright (c) 2005-2023 NVIDIA Corporation\n",
            "Built on Tue_Aug_15_22:02:13_PDT_2023\n",
            "Cuda compilation tools, release 12.2, V12.2.140\n",
            "Build cuda_12.2.r12.2/compiler.33191640_0\n"
          ]
        }
      ],
      "source": [
        "!nvcc --version"
      ]
    },
    {
      "cell_type": "code",
      "source": [
        "pip install nvcc4jupyter"
      ],
      "metadata": {
        "colab": {
          "base_uri": "https://localhost:8080/"
        },
        "id": "FRoFUvbsasJf",
        "outputId": "c3cc61e5-8a3d-42d7-920f-36697a8d8c4c"
      },
      "execution_count": null,
      "outputs": [
        {
          "output_type": "stream",
          "name": "stdout",
          "text": [
            "Collecting nvcc4jupyter\n",
            "  Downloading nvcc4jupyter-1.2.1-py3-none-any.whl (10 kB)\n",
            "Installing collected packages: nvcc4jupyter\n",
            "Successfully installed nvcc4jupyter-1.2.1\n"
          ]
        }
      ]
    },
    {
      "cell_type": "code",
      "source": [
        "%load_ext nvcc4jupyter"
      ],
      "metadata": {
        "colab": {
          "base_uri": "https://localhost:8080/"
        },
        "id": "rIfBqCGsat3c",
        "outputId": "9a7efe38-78ec-4c74-a781-7232c77b033b"
      },
      "execution_count": null,
      "outputs": [
        {
          "output_type": "stream",
          "name": "stdout",
          "text": [
            "Detected platform \"Colab\". Running its setup...\n",
            "Source files will be saved in \"/tmp/tmp5s8n4dqj\".\n"
          ]
        }
      ]
    },
    {
      "cell_type": "code",
      "source": [
        "!nvidia-smi"
      ],
      "metadata": {
        "colab": {
          "base_uri": "https://localhost:8080/"
        },
        "id": "g_oDPR_Yau9B",
        "outputId": "4e91dde7-df75-45ed-a895-a2380463304c"
      },
      "execution_count": null,
      "outputs": [
        {
          "output_type": "stream",
          "name": "stdout",
          "text": [
            "Fri May 24 09:20:22 2024       \n",
            "+---------------------------------------------------------------------------------------+\n",
            "| NVIDIA-SMI 535.104.05             Driver Version: 535.104.05   CUDA Version: 12.2     |\n",
            "|-----------------------------------------+----------------------+----------------------+\n",
            "| GPU  Name                 Persistence-M | Bus-Id        Disp.A | Volatile Uncorr. ECC |\n",
            "| Fan  Temp   Perf          Pwr:Usage/Cap |         Memory-Usage | GPU-Util  Compute M. |\n",
            "|                                         |                      |               MIG M. |\n",
            "|=========================================+======================+======================|\n",
            "|   0  Tesla T4                       Off | 00000000:00:04.0 Off |                    0 |\n",
            "| N/A   43C    P8               9W /  70W |      0MiB / 15360MiB |      0%      Default |\n",
            "|                                         |                      |                  N/A |\n",
            "+-----------------------------------------+----------------------+----------------------+\n",
            "                                                                                         \n",
            "+---------------------------------------------------------------------------------------+\n",
            "| Processes:                                                                            |\n",
            "|  GPU   GI   CI        PID   Type   Process name                            GPU Memory |\n",
            "|        ID   ID                                                             Usage      |\n",
            "|=======================================================================================|\n",
            "|  No running processes found                                                           |\n",
            "+---------------------------------------------------------------------------------------+\n"
          ]
        }
      ]
    },
    {
      "cell_type": "code",
      "source": [
        "%%cuda\n",
        "#include <stdio.h>\n",
        "#include <cuda_runtime.h>\n",
        "\n",
        "__device__ void crypt(char *rawPassword, char *newPassword)\n",
        "{\n",
        "\tnewPassword[0] = rawPassword[0] + 2;\n",
        "\tnewPassword[1] = rawPassword[0] - 2;\n",
        "\tnewPassword[2] = rawPassword[0] + 1;\n",
        "\tnewPassword[3] = rawPassword[1] + 3;\n",
        "\tnewPassword[4] = rawPassword[1] - 3;\n",
        "\tnewPassword[5] = rawPassword[1] - 1;\n",
        "\tnewPassword[6] = rawPassword[2] + 2;\n",
        "\tnewPassword[7] = rawPassword[2] - 2;\n",
        "\tnewPassword[8] = rawPassword[3] + 4;\n",
        "\tnewPassword[9] = rawPassword[3] - 4;\n",
        "\tnewPassword[10] = '\\0';\n",
        "\n",
        "\tfor (int i = 0; i < 10; i++)\n",
        "\t{\n",
        "\t\tif (i < 6)\n",
        "\t\t{ // for letters\n",
        "\t\t\tif (newPassword[i] > 122)\n",
        "\t\t\t{\n",
        "\t\t\t\tnewPassword[i] = (newPassword[i] - 122) + 97;\n",
        "\t\t\t}\n",
        "\t\t\telse if (newPassword[i] < 97)\n",
        "\t\t\t{\n",
        "\t\t\t\tnewPassword[i] = (97 - newPassword[i]) + 97;\n",
        "\t\t\t}\n",
        "\t\t}\n",
        "\t\telse\n",
        "\t\t{ // for numbers\n",
        "\t\t\tif (newPassword[i] > 57)\n",
        "\t\t\t{\n",
        "\t\t\t\tnewPassword[i] = (newPassword[i] - 57) + 48;\n",
        "\t\t\t}\n",
        "\t\t\telse if (newPassword[i] < 48)\n",
        "\t\t\t{\n",
        "\t\t\t\tnewPassword[i] = (48 - newPassword[i]) + 48;\n",
        "\t\t\t}\n",
        "\t\t}\n",
        "\t}\n",
        "}\n",
        "\n",
        "// Global function to be executed on GPU\n",
        "__global__ void encryptKernel(char *rawPasswords, char *encryptedPasswords, int passwordCount)\n",
        "{\n",
        "\tint idx = blockIdx.x * blockDim.x + threadIdx.x;\n",
        "\tif (idx < passwordCount)\n",
        "\t{\n",
        "\t\tcrypt(&rawPasswords[idx * 4], &encryptedPasswords[idx * 11]);\n",
        "\t}\n",
        "}\n",
        "\n",
        "int main()\n",
        "{\n",
        "\tchar *rawPasswords = \"ag13\"; // Example password\n",
        "\tif (strlen(rawPasswords) != 4 ||\n",
        "\t\t!(rawPasswords[0] >= 'a' && rawPasswords[0] <= 'z') ||\n",
        "\t\t!(rawPasswords[1] >= 'a' && rawPasswords[1] <= 'z') ||\n",
        "\t\t!(rawPasswords[2] >= '0' && rawPasswords[2] <= '9') ||\n",
        "\t\t!(rawPasswords[3] >= '0' && rawPasswords[3] <= '9'))\n",
        "\t{\n",
        "\t\tprintf(\"Error: Password must be in the format 'LetterLetterNumberNumber' (e.g., 'ab12') and contain only lowercase letters and numbers.\\n\");\n",
        "\t\treturn -1;\n",
        "\t}\n",
        "\telse\n",
        "\t{\n",
        "\t\tchar *d_rawPasswords, *d_encryptedPasswords;\n",
        "\t\tchar encryptedPasswords[11];\n",
        "\n",
        "\t\t// Allocate memory on device\n",
        "\t\tcudaMalloc((void **)&d_rawPasswords, 4 * sizeof(char));\n",
        "\t\tcudaMalloc((void **)&d_encryptedPasswords, 11 * sizeof(char));\n",
        "\n",
        "\t\tcudaError_t err;\n",
        "\n",
        "\t\t// Allocate memory on device\n",
        "\t\terr = cudaMalloc((void **)&d_rawPasswords, 4 * sizeof(char));\n",
        "\t\tif (err != cudaSuccess)\n",
        "\t\t{\n",
        "\t\t\tprintf(\"CUDA malloc failed for d_rawPasswords: %s\\n\", cudaGetErrorString(err));\n",
        "\t\t\treturn -1; // or handle error appropriately\n",
        "\t\t}\n",
        "\n",
        "\t\terr = cudaMalloc((void **)&d_encryptedPasswords, 11 * sizeof(char));\n",
        "\t\tif (err != cudaSuccess)\n",
        "\t\t{\n",
        "\t\t\tprintf(\"CUDA malloc failed for d_encryptedPasswords: %s\\n\", cudaGetErrorString(err));\n",
        "\t\t\tcudaFree(d_rawPasswords); // free already allocated resources\n",
        "\t\t\treturn -1;\t\t\t\t  // or handle error appropriately\n",
        "\t\t}\n",
        "\n",
        "\t\t// Copy data from host to device\n",
        "\t\terr = cudaMemcpy(d_rawPasswords, rawPasswords, 4 * sizeof(char), cudaMemcpyHostToDevice);\n",
        "\t\tif (err != cudaSuccess)\n",
        "\t\t{\n",
        "\t\t\tprintf(\"CUDA memcpy failed from host to device: %s\\n\", cudaGetErrorString(err));\n",
        "\t\t\tcudaFree(d_rawPasswords);\n",
        "\t\t\tcudaFree(d_encryptedPasswords);\n",
        "\t\t\treturn -1;\n",
        "\t\t}\n",
        "\n",
        "\t\t// Launch kernel with one block and one thread per block (as example)\n",
        "\t\tencryptKernel<<<1, 1>>>(d_rawPasswords, d_encryptedPasswords, 1);\n",
        "\t\terr = cudaDeviceSynchronize();\n",
        "\t\tif (err != cudaSuccess)\n",
        "\t\t{\n",
        "\t\t\tprintf(\"CUDA kernel launch failed: %s\\n\", cudaGetErrorString(err));\n",
        "\t\t\tcudaFree(d_rawPasswords);\n",
        "\t\t\tcudaFree(d_encryptedPasswords);\n",
        "\t\t\treturn -1;\n",
        "\t\t}\n",
        "\n",
        "\t\t// Copy result back to host\n",
        "\t\terr = cudaMemcpy(encryptedPasswords, d_encryptedPasswords, 11 * sizeof(char), cudaMemcpyDeviceToHost);\n",
        "\t\tif (err != cudaSuccess)\n",
        "\t\t{\n",
        "\t\t\tprintf(\"CUDA memcpy failed from device to host: %s\\n\", cudaGetErrorString(err));\n",
        "\t\t\tcudaFree(d_rawPasswords);\n",
        "\t\t\tcudaFree(d_encryptedPasswords);\n",
        "\t\t\treturn -1;\n",
        "\t\t}\n",
        "\n",
        "\t\t// Copy data from host to device\n",
        "\t\tcudaMemcpy(d_rawPasswords, rawPasswords, 4 * sizeof(char), cudaMemcpyHostToDevice);\n",
        "\n",
        "\t\t// Launch kernel with one block and one thread per block (as example)\n",
        "\t\tencryptKernel<<<1, 1>>>(d_rawPasswords, d_encryptedPasswords, 1);\n",
        "\n",
        "\t\t// Copy result back to host\n",
        "\t\tcudaMemcpy(encryptedPasswords, d_encryptedPasswords, 11 * sizeof(char), cudaMemcpyDeviceToHost);\n",
        "\n",
        "\t\t// Print encrypted password\n",
        "\t\tprintf(\"Encrypted Password: %s\\n\", encryptedPasswords);\n",
        "\n",
        "\t\t// Free memory\n",
        "\t\tcudaFree(d_rawPasswords);\n",
        "\t\tcudaFree(d_encryptedPasswords);\n",
        "\n",
        "\t\treturn 0;\n",
        "\t}\n",
        "}"
      ],
      "metadata": {
        "colab": {
          "base_uri": "https://localhost:8080/"
        },
        "id": "vqKHw4-ig_0v",
        "outputId": "b513ad63-e9b6-40fb-8223-9dad2c6a6f42"
      },
      "execution_count": null,
      "outputs": [
        {
          "output_type": "stream",
          "name": "stderr",
          "text": [
            "UsageError: Cell magic `%%cuda` not found.\n"
          ]
        }
      ]
    },
    {
      "cell_type": "code",
      "source": [
        "%%cuda\n",
        "\n",
        "#include <stdio.h>\n",
        "#include <stdlib.h>\n",
        "#include <string.h>\n",
        "\n",
        "__device__\n",
        "char* CudaCrypt(char* rawPassword) {\n",
        "\n",
        "\tchar * newPassword = (char *) malloc(sizeof(char) * 11);\n",
        "\n",
        "\tnewPassword[0] = rawPassword[0] + 2;\n",
        "\tnewPassword[1] = rawPassword[0] - 2;\n",
        "\tnewPassword[2] = rawPassword[0] + 1;\n",
        "\tnewPassword[3] = rawPassword[1] + 3;\n",
        "\tnewPassword[4] = rawPassword[1] - 3;\n",
        "\tnewPassword[5] = rawPassword[1] - 1;\n",
        "\tnewPassword[6] = rawPassword[2] + 2;\n",
        "\tnewPassword[7] = rawPassword[2] - 2;\n",
        "\tnewPassword[8] = rawPassword[3] + 4;\n",
        "\tnewPassword[9] = rawPassword[3] - 4;\n",
        "\tnewPassword[10] = '\\0';\n",
        "\n",
        "\tfor(int i =0; i<10; i++){\n",
        "\t\tif(i >= 0 && i < 6){ //checking letter limits\n",
        "\t\t\tif(newPassword[i] > 122){\n",
        "\t\t\t\tnewPassword[i] = (newPassword[i] - 122) + 97;\n",
        "\t\t\t}else if(newPassword[i] < 97){\n",
        "\t\t\t\tnewPassword[i] = (97 - newPassword[i]) + 97;\n",
        "\t\t\t}\n",
        "\t\t}else{ //checking numbers\n",
        "\t\t\tif(newPassword[i] > 57){\n",
        "\t\t\t\tnewPassword[i] = (newPassword[i] - 57) + 48;\n",
        "\t\t\t}else if(newPassword[i] < 48){\n",
        "\t\t\t\tnewPassword[i] = (48 - newPassword[i]) + 48;\n",
        "\t\t\t}\n",
        "\t\t}\n",
        "\t}\n",
        "\treturn newPassword;\n",
        "}\n",
        "\n",
        "__device__\n",
        "int isEncryptedMatching(char* one, char* two, int length) {\n",
        "\tint result = 1;\n",
        "\tfor (int i = 0; i < length; i++) {\n",
        "\t\tif (one[i] != two[i]) {\n",
        "\t\t\tresult = 0;\n",
        "\t\t\tbreak;\n",
        "\t\t}\n",
        "\t}\n",
        "\treturn result;\n",
        "}\n",
        "\n",
        "__global__\n",
        "void decryptPass(char* alphabet, char* numbers, char* encryptedPassword, char* deviceOutputPass){\n",
        "\t/// Get cuda thread id\n",
        "\tint uid = blockDim.x * blockIdx.x + threadIdx.x;\n",
        "\n",
        "\tif(*deviceOutputPass != NULL) {\n",
        "\n",
        "\t\treturn;\n",
        "\t}\n",
        "\n",
        "\t/// Create password to check on this thread\n",
        "\tchar potentialPassword[4];\n",
        "\tpotentialPassword[0] = alphabet[blockIdx.x];\n",
        "\tpotentialPassword[1] = alphabet[blockIdx.y];\n",
        "\tpotentialPassword[2] = numbers[threadIdx.x];\n",
        "\tpotentialPassword[3] = numbers[threadIdx.y];\n",
        "\n",
        "\t/// Encrypt the password\n",
        "\tchar* encryptedPotential;\n",
        "\tencryptedPotential = CudaCrypt(potentialPassword);\n",
        "\n",
        "\n",
        "\t/// Check the current password matches to the target encryptedPassword\n",
        "\tif ( isEncryptedMatching(encryptedPassword, encryptedPotential, 11) > 0 )\n",
        "\t{\n",
        "\n",
        "\t\tprintf(\"UID '%d' Encrypted password '%s' from combination '%s' matches potential password = '%s'\\n\", uid, encryptedPassword, potentialPassword, encryptedPotential);\n",
        "\n",
        "\t\tfor (int i = 0; i < 4; i++ ) {\n",
        "\t\t\tdeviceOutputPass[i] = potentialPassword[i];\n",
        "\t\t}\n",
        "\t}\n",
        "}\n",
        "\n",
        "int main(int argc, char** argv) {\n",
        "\n",
        "\tchar* encryptedPassword = \"dbcfbb2771\";\n",
        "\tif (argc > 1) {\n",
        "\t\tencryptedPassword = argv[1];\n",
        "\t}\n",
        "\n",
        "\tprintf(\"Password is: '%s'\\n\", encryptedPassword);\n",
        "\n",
        "\t// Initialize alpha numeric characters\n",
        "\tchar cpuAlphabet[26] = { 'a','b','c','d','e','f','g','h','i','j','k','l','m','n','o','p','q','r','s','t','u','v','w','x','y','z' };\n",
        "\tchar cpuNumbers[10] = { '0', '1', '2', '3', '4', '5', '6' ,'7', '8', '9' };\n",
        "\n",
        "\tint sizeOfEncryptedPassword = sizeof(char) * 11;\n",
        "\n",
        "\tchar* cudaAlphabet;\n",
        "\tcudaMalloc( (void**) &cudaAlphabet, sizeof(char) * 26 );\n",
        "\tcudaMemcpy( cudaAlphabet, cpuAlphabet, sizeof(char) * 26, cudaMemcpyHostToDevice );\n",
        "\n",
        "\tchar* cudaNumbers;\n",
        "\tcudaMalloc( (void**) &cudaNumbers, sizeof(char) * 10 );\n",
        "\tcudaMemcpy( cudaNumbers, cpuNumbers, sizeof(char) * 10, cudaMemcpyHostToDevice );\n",
        "\n",
        "\tchar* cudaEncryptedPassword;\n",
        "\tcudaMalloc( (void**) &cudaEncryptedPassword, sizeOfEncryptedPassword );\n",
        "\tcudaMemcpy( cudaEncryptedPassword, encryptedPassword, sizeOfEncryptedPassword, cudaMemcpyHostToDevice);\n",
        "\n",
        "\tchar* cudaOutputPass;\n",
        "\tcudaMalloc( (void**) &cudaOutputPass, sizeOfEncryptedPassword );\n",
        "\n",
        "\t/// Launch cuda threads\n",
        "\tdecryptPass<<< dim3(26, 26, 1), dim3(10, 10, 1) >>>(cudaAlphabet, cudaNumbers, cudaEncryptedPassword, cudaOutputPass);\n",
        "\tcudaDeviceSynchronize();\n",
        "\n",
        "\tprintf(\"Finished executing CUDA threads\\n\");\n",
        "\n",
        "\t/// Send CUDA decrypted password to the CPU\n",
        "\tchar* cpuOutputPass = (char*)malloc( sizeof(char) * 4 );\n",
        "\tcudaMemcpy(cpuOutputPass, cudaOutputPass, sizeOfEncryptedPassword, cudaMemcpyDeviceToHost);\n",
        "\n",
        "\t/// Print results\n",
        "\tprintf(\"*********\\n\");\n",
        "\tprintf(\"Results:\\n\");\n",
        "\tif (cpuOutputPass != NULL && cpuOutputPass[0] != 0) {\n",
        "\t\tprintf(\"Encrypted Password: '%s'\\n\", encryptedPassword);\n",
        "\t\tprintf(\"Decrypted Password: '%s'\\n\", cpuOutputPass);\n",
        "\t} else {\n",
        "\t\tprintf(\"Password decryption aborted.\\n\");\n",
        "\t}\n",
        "\n",
        "\tcudaFree(cudaAlphabet);\n",
        "\tcudaFree(cudaNumbers);\n",
        "\tcudaFree(cudaEncryptedPassword);\n",
        "\tcudaFree(cudaOutputPass);\n",
        "\tfree(cpuOutputPass);\n",
        "}\n"
      ],
      "metadata": {
        "colab": {
          "base_uri": "https://localhost:8080/"
        },
        "id": "4aQPFKCsavtO",
        "outputId": "7987c65f-f849-4c31-fd25-58dc8af5f188"
      },
      "execution_count": null,
      "outputs": [
        {
          "output_type": "stream",
          "name": "stdout",
          "text": [
            "Password is: 'dbcfbb2771'\n",
            "UID '19' Encrypted password 'dbcfbb2771' from combination 'bc93' matches potential password = 'dbcfbb2771'\n",
            "Finished executing CUDA threads\n",
            "*********\n",
            "Results:\n",
            "Encrypted Password: 'dbcfbb2771'\n",
            "Decrypted Password: 'bc93'\n",
            "\n"
          ]
        }
      ]
    }
  ]
}